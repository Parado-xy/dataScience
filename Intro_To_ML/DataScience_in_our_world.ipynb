{
 "cells": [
  {
   "cell_type": "markdown",
   "metadata": {},
   "source": [
    "<blockquote>\n",
    "The goal is to turn Data into Information and Information into insight.\n",
    "</blockquote>"
   ]
  },
  {
   "cell_type": "markdown",
   "metadata": {},
   "source": [
    "# What is data science?\n",
    "Data Science is the understanding of the world through the scientific analysis of digital data. \n",
    "\n",
    "**Data Science** combines the scientific method, math and stastistics, specialized programming, advanced analytics, artificial intelligence (AI), and even storytelling to uncover and explain the buisness insights present in data. \n",
    "\n",
    "Data Science is a **multidisciplinary approach** to extracting **actionable insights** from the large and ever-increasing volumes of data collected and created by today's businesses."
   ]
  },
  {
   "cell_type": "markdown",
   "metadata": {},
   "source": [
    "*Data Science - Personal Definition*. \n",
    "\n",
    "- Data Science can be seen as the science of data. That is simply taking it, processing it, and acting on it. \n",
    "\n",
    "*Copilot's ironing of my definition* :\n",
    "- Data Science is an interdisciplinary field that uses the scientific method, processes, algorithms, and systems to extract knowledge and insights from structured and unstructured data. \n"
   ]
  },
  {
   "cell_type": "markdown",
   "metadata": {},
   "source": [
    "# The 5 Whys.\n",
    "When analyzing data, you'll find a problem and need to understand why. The 5 Whys is a valuable technique in problem solving that is easy to remember. You can determine the root cause of a problem by asking the question **\"Why?\"** Five times. \n",
    "\n",
    "First ask a \"Why?\" question, get an answer, and then ask a second \"Why?\" question. And so on. Each answer will inform your next \"Why?\" Question. The answer to the fifth \"Why\" should reveal the root cause of the problem. "
   ]
  },
  {
   "cell_type": "markdown",
   "metadata": {},
   "source": [
    "### Data Science Vs Data Analytics. \n",
    "The main difference between data analytics and data science is in what data analysts and data scientists do with data, meaning the tactics used. Here's how they are differentiated:\n",
    "\n",
    "- **Data analysts** collect and examine large data sets to identify trends, forecasts, and data visualizations to tell a compelling story through actionable insights. These insights help businesses make informed decisions about business needs.\n",
    "\n",
    "- **Data scientists** design and create new processes for data modeling. They use algorithms, predictive analytics, and statistical analysis. Data scientists have technical skills to arrange unstructured data and build their own methodologies to make predictions based on data trends.\n"
   ]
  },
  {
   "cell_type": "markdown",
   "metadata": {},
   "source": [
    "Here's a diagram: \n",
    "\n",
    "<img src = '../images/DataAnalytics-DataScience.png'>"
   ]
  }
 ],
 "metadata": {
  "language_info": {
   "name": "python"
  }
 },
 "nbformat": 4,
 "nbformat_minor": 2
}
