{
 "cells": [
  {
   "cell_type": "markdown",
   "metadata": {},
   "source": [
    "<blockquote>\n",
    "The goal is to turn Data into Information and Information into insight.\n",
    "</blockquote>"
   ]
  },
  {
   "cell_type": "markdown",
   "metadata": {},
   "source": [
    "# What is data science?\n",
    "Data Science is the understanding of the world through the scientific analysis of digital data. \n",
    "\n",
    "**Data Science** combines the scientific method, math and stastistics, specialized programming, advanced analytics, artificial intelligence (AI), and even storytelling to uncover and explain the buisness insights present in data. \n",
    "\n",
    "Data Science is a **multidisciplinary approach** to extracting **actionable insights** from the large and ever-increasing volumes of data collected and created by today's businesses."
   ]
  },
  {
   "cell_type": "markdown",
   "metadata": {},
   "source": [
    "*Data Science - Personal Definition*. \n",
    "\n",
    "- Data Science can be seen as the science of data. That is simply taking it, processing it, and acting on it. \n",
    "\n",
    "*Copilot's ironing of my definition* :\n",
    "- Data Science is an interdisciplinary field that uses the scientific method, processes, algorithms, and systems to extract knowledge and insights from structured and unstructured data. \n"
   ]
  },
  {
   "cell_type": "markdown",
   "metadata": {},
   "source": [
    "# The 5 Whys.\n",
    "When analyzing data, you'll find a problem and need to understand why. The 5 Whys is a valuable technique in problem solving that is easy to remember. You can determine the root cause of a problem by asking the question **\"Why?\"** Five times. \n",
    "\n",
    "First ask a \"Why?\" question, get an answer, and then ask a second \"Why?\" question. And so on. Each answer will inform your next \"Why?\" Question. The answer to the fifth \"Why\" should reveal the root cause of the problem. "
   ]
  },
  {
   "cell_type": "markdown",
   "metadata": {},
   "source": [
    "### Data Science Vs Data Analytics. \n",
    "The main difference between data analytics and data science is in what data analysts and data scientists do with data, meaning the tactics used. Here's how they are differentiated:\n",
    "\n",
    "- **Data analysts** collect and examine large data sets to identify trends, forecasts, and data visualizations to tell a compelling story through actionable insights. These insights help businesses make informed decisions about business needs.\n",
    "\n",
    "- **Data scientists** design and create new processes for data modeling. They use algorithms, predictive analytics, and statistical analysis. Data scientists have technical skills to arrange unstructured data and build their own methodologies to make predictions based on data trends.\n"
   ]
  },
  {
   "cell_type": "markdown",
   "metadata": {},
   "source": [
    "Here's a diagram: \n",
    "\n",
    "<img src = '../images/DataAnalytics-DataScience.png'>"
   ]
  },
  {
   "cell_type": "markdown",
   "metadata": {},
   "source": [
    "### Data Science Methodology."
   ]
  },
  {
   "cell_type": "markdown",
   "metadata": {},
   "source": [
    "*A methodology is a general strategy that guides activities within a process. A methodology doesn't depend on technologies or tools, and it is not a set of techniques or recipies. Rather, a methodology provides data scientists with a framework for how to proceed with whatever methods and processes they will use to obtain answers or results*"
   ]
  },
  {
   "cell_type": "markdown",
   "metadata": {},
   "source": [
    "### Three classic and widely adopted data science methodologies: \n",
    "\n",
    "- Cross-Industry Standard Process for Data Mining (CRISP-DM).\n",
    "\n",
    "- Knowledge Discovery in Database (KDD)\n",
    "\n",
    "- Sample, Explore, Modify, Model, Assess (SEMMA).\n",
    "\n",
    "### CRISP-DM, KDD, and SEMMA: \n",
    "- Use data mining methods.\n",
    "- Are best suited for structured data.\n",
    "- Are useful for using descriptive and predictive analytics. \n",
    "- Share some common activities, such as data gathering, data transformation, data modeling, and model evaluation.\n",
    "\n",
    "NOTE : These methodologies are only useful for dealing with structured data."
   ]
  },
  {
   "cell_type": "markdown",
   "metadata": {},
   "source": [
    "## CRISP-DM (Explanation...ish)\n",
    "\n",
    "\n",
    "CRISP-DM stands for Cross-Industry Standard Processes for Data Mining. \n",
    "\n",
    "Founded by the European Strategic Program on Research in Information Technology initiative, CRISP-DM is a proven way to guide data mining efforts. Any industry can use this methodology to help structure a data science project. CRISP-DM is a flexible and comprehensive data science approach. \n",
    "\n",
    "<img src = '../images/CRISP-DM.jpg'>"
   ]
  },
  {
   "cell_type": "markdown",
   "metadata": {},
   "source": [
    "CRISP-DM consists of six phases with arrows indicating the most important and frequent dependencies between phases:\n",
    "\n",
    "- Business understanding\n",
    "- Data understanding\n",
    "- Data preparation\n",
    "- Modeling\n",
    "- Evaluation\n",
    "- Deployment\n",
    "\n",
    "The sequence of the phases is not strict. CRISP-DM is iterative, meaning that the phases can be repeated to incrementally improve the result. The results of some stages might require the project cycle to go back to earlier stages.\n",
    "\n",
    "What’s unique to the CRISP-DM methodology is that it begins with Business understanding. This phase focuses on understanding the project objectives and requirements from a business perspective, and defining the data problem to solve. "
   ]
  },
  {
   "cell_type": "markdown",
   "metadata": {},
   "source": [
    "## KDD stands for Knowledge Discovery in Database. \n",
    "\n",
    "KDD represents the overall process of collecting data and methodically refining it. KDD typically has five steps:\n",
    "\n",
    "- Selection\n",
    "- Preprocessing\n",
    "- Transformation\n",
    "- Data Mining\n",
    "- Interpretation/Evaluation\n",
    "\n",
    "<img src = '../images/KDD.jpg'>"
   ]
  },
  {
   "cell_type": "markdown",
   "metadata": {},
   "source": [
    "The KDD methodology can help businesses stay current with customer needs and behaviors and predict future purchasing trends to stay competitive. But, the process doesn’t address many of the modern realities of data science projects, such as the setup of big data architecture, considerations of ethics, or the various roles in a data science team.\n",
    "\n",
    "KDD is iterative, meaning new data can be integrated and transformed to get different and more appropriate results. The knowledge acquired can be cycled back into the process, enhancing its effectiveness. "
   ]
  },
  {
   "cell_type": "markdown",
   "metadata": {},
   "source": [
    "## SEMMA\n",
    "\n",
    "SEMMA stands for its five steps:\n",
    "- Sample\n",
    "- Explore\n",
    "- Modify\n",
    "- Model\n",
    "- Assess\n",
    "\n",
    "<img src = '../images/SEMMA.jpg'>"
   ]
  },
  {
   "cell_type": "markdown",
   "metadata": {},
   "source": [
    "SEMMA is a data science methodology that helps convert data into knowledge. SEMMA can help solve a range of business problems, such as fraud identification, customer retention and turnover, database marketing, customer loyalty, market segmentation, and risk analysis.\n",
    "\n",
    "The SAS Institute developed SEMMA as a process of data mining. SEMMA primarily focuses on the modeling tasks of data mining projects.\n",
    "\n",
    "SEMMA is also an iterative process, in which answering one set of questions often leads to more interesting and more specific questions."
   ]
  },
  {
   "cell_type": "markdown",
   "metadata": {},
   "source": [
    "`Note that one thing that all thre of these methods have in common is that they are all iterative. What this means is that the data science process isn't just a one and done type of thing. It is an active process of refining and improving the insights that can be gotten from the data.`"
   ]
  }
 ],
 "metadata": {
  "language_info": {
   "name": "python"
  }
 },
 "nbformat": 4,
 "nbformat_minor": 2
}
