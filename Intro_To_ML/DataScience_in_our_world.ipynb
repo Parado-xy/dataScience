{
 "cells": [
  {
   "cell_type": "markdown",
   "metadata": {},
   "source": [
    "<blockquote>\n",
    "The goal is to turn Data into Information and Information into insight.\n",
    "</blockquote>"
   ]
  },
  {
   "cell_type": "markdown",
   "metadata": {},
   "source": [
    "# What is data science?\n",
    "Data is the understanding of the world through the scientific analysis of digital data. \n",
    "\n",
    "**Data Science** combines the scientific method, math and stastistics, specialized programming, advanced analytics, artificial intelligence (AI), and even storytelling to uncover and explain the buisness insights present in data. \n",
    "\n",
    "Data Science is a **multidisciplinary approach** to extracting **actionable insights** from the large and ever-increasing volumes of data collected and created by today's businesses."
   ]
  },
  {
   "cell_type": "markdown",
   "metadata": {},
   "source": [
    "*Data Science - Personal Definition*. \n",
    "\n",
    "- Data Science can be seen as the science of data. That is simply taking it, processing it, and acting on it. \n",
    "\n",
    "*Copilot's ironing of my definition* :\n",
    "- Data Science is an interdisciplinary field that uses the scientific method, processes, algorithms, and systems to extract knowledge and indights from structured and unstructured data. \n"
   ]
  }
 ],
 "metadata": {
  "language_info": {
   "name": "python"
  }
 },
 "nbformat": 4,
 "nbformat_minor": 2
}
