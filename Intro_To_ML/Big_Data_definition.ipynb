{
 "cells": [
  {
   "cell_type": "markdown",
   "metadata": {},
   "source": [
    "# Big Data.\n",
    "\n",
    "Big data refers to extremely large and complex sets of information that grow rapidly over time. It is characterized by three main features, often called the “Three V’s”:\n",
    "\n",
    "- **Volume** : The sheer amount of data.\n",
    "There are exabytes, zettabytes, and yottabytes of data! What are these?\n",
    "<br/>\n",
    "One gigabyte is roughly equivalent to one billion bytes.\n",
    "<br/>\n",
    "One exabyte is one billion gigabytes.\n",
    "<br/>\n",
    "One zettabyte is approximately equal to one thousand exabytes. \n",
    "<br/>\n",
    "One yottabyte is one thousand zettabyes.\n",
    "<br/>\n",
    "The increasing amount of data sources drives the volume of data. Think about it: as of 2022, the world population is nearly eight billion people, and the majority of people are using digital devices. These mobile devices, computers, phones, game consoles, and tablets all generate, capture, and store data.\n",
    "Companies need to use tools and storage that enable them to handle such large volumes of data.\n",
    "\n",
    "- **Velocity** : The speed at which new data is generated and processed.\n",
    "\n",
    "- **Variety** : The various types of data, including structured and unstructured.\n",
    "\n",
    "- **Veracity** : This refers to the quality and trustworthiness of data.\n",
    "\n",
    "- **Value** : This refers to the ability to turn data into value. The main reasons why people invest time to understand big data is to derive value from it.\n",
    "Value isn’t just profit. It might be medical or social benefits, or it might be customer, employee, or personal satisfaction. Companies must make a case and have a clear understanding of the value they want to obtain from collecting and using big data. They must filter out the “noisy” data to find what they are looking for.\n",
    "\n",
    "\n",
    "\n",
    "\n",
    "Big data is used in various fields to analyze trends, make predictions, and solve complex problems."
   ]
  },
  {
   "cell_type": "markdown",
   "metadata": {},
   "source": [
    "# Data Analytics."
   ]
  },
  {
   "cell_type": "markdown",
   "metadata": {},
   "source": [
    "There are 4 recognized types of data analytics :\n",
    "\n",
    "- *Descriptive analytics*\n",
    "- *Diagnostic analytics*\n",
    "- *Predictive analytics*\n",
    "- *Prescriptive analytics*"
   ]
  },
  {
   "cell_type": "markdown",
   "metadata": {},
   "source": [
    "Each type of data analytics has a different goal and a different place in the data analysis process, and answers a specific question. Take a moment to view the following diagram, which clarifies the degree of complexity and added-value contribution for each of the four data analytics types. \n",
    "\n",
    "\n",
    "<img src = '../images/data-analytic-complexity.png'>\n",
    "\n",
    "As depicted in the previous diagram, the degree of difficulty and resources required increases for each type of data analytics. At the same time, the level of added insight and value also increases."
   ]
  },
  {
   "cell_type": "markdown",
   "metadata": {},
   "source": [
    "### Descriptive analytics: What is happening?\n",
    "Descriptive analytics is the simplest and most common type of data analytics.\n",
    "\n",
    " \n",
    "\n",
    "Descriptive analytics answers the question, “What is happening?”. It provides a snapshot of business trends and patterns and uses historical and current data.\n",
    "\n",
    " \n",
    "\n",
    "Descriptive analytics manipulates raw data from multiple sources to give a data analyst valuable insights into the past and a view of key metrics within a business. \n",
    "\n",
    " \n",
    "\n",
    "These findings might signal that something is right or wrong but not explain why. However, the findings can help to determine what the biggest issues are and where to start investigating!"
   ]
  },
  {
   "cell_type": "markdown",
   "metadata": {},
   "source": [
    "### Diagnostic analytics: Why is it happening?\n",
    "After asking the question, “What is happening?”, the next step is to dive deeper and ask “why?”, such as,  “Why are trends and patterns happening?” This is where diagnostic analytics comes in.\n",
    "\n",
    " \n",
    "\n",
    "Diagnostic analytics takes the insights found from descriptive analytics and drills down to find the causes of specific problems.\n",
    "\n",
    " \n",
    "\n",
    "Businesses use of diagnostic analytics because it creates more connections between data and identifies patterns of behavior.\n",
    "\n",
    "Here are some examples of diagnostic analytics:\n",
    "\n",
    "- A freight company investigates the cause of slow shipments in a certain region.\n",
    "- A healthcare company examines diagnoses and prescribed medications to identify the influence of medications.\n",
    "- An IT company analyzes server ticket data to identify a small number of servers causing the bulk of an organization’s service outages.\n"
   ]
  },
  {
   "cell_type": "markdown",
   "metadata": {},
   "source": [
    "### Predictive analytics: What is likely to happen in the future?\n",
    "Predictive analytics is about forecasting. This type of analytics uses historical data to make predictions about the future. Whether it’s the likelihood of a future event, forecasting a quantifiable amount, or estimating a point in time at which something might happen – these are all done through predictive models.\n",
    "\n",
    " \n",
    "\n",
    "In a world of great uncertainty, being able to predict allows businesses to make better decisions.\n",
    "\n",
    " \n",
    "\n",
    "This type of analytics is more advanced and can often depend on machine learning and deep learning."
   ]
  },
  {
   "cell_type": "markdown",
   "metadata": {},
   "source": [
    "### Prescriptive analytics: What should happen?\n",
    "Prescriptive analytics combines the insight from all previous data analyses to determine a course of action to take to address a problem or make a decision.\n",
    "\n",
    " \n",
    "\n",
    "The purpose of prescriptive analytics is to prescribe what action to take to eliminate a future problem or take full advantage of a promising trend.\n",
    "\n",
    " \n",
    "\n",
    "Prescriptive analytics is typically used for a host of actions, versus an individual action. This requires a major commitment from businesses to put forth the strategy, effort, and resources. As technology continues to improve and more professionals are educated in data, more companies will enter this data-driven realm.\n",
    "\n",
    "Prescriptive analytics uses advanced tools and technologies, like machine learning, business rules, and algorithms. This makes prescriptive analytics sophisticated to implement and manage.\n",
    "\n",
    "`Note that Prescriptive analytics recommends actions to take to eliminate a future problem or take advantage of a promising trend? `"
   ]
  },
  {
   "cell_type": "markdown",
   "metadata": {},
   "source": [
    "<blockquote>\n",
    "Note that the four steps to follow in the Data Analytics process are Collection, Cleaning, Analyzing, and Visualizing. \n",
    "So maybe CCAV? \n",
    "</blockquote>"
   ]
  },
  {
   "cell_type": "markdown",
   "metadata": {},
   "source": [
    "## Data Analysis - Definition : \n",
    "Data analysis is the process of collecting, cleaning, and transforming data to obtain insights to help make better and informed decisions. In our ever-growing, data-driven world, this is a must for companies of all sizes to solve everyday business problems. Each company has its own team, processes, and tools for data analysis projects."
   ]
  },
  {
   "cell_type": "markdown",
   "metadata": {},
   "source": [
    "# A walk through of the CCAV process by an actual Data Analyst.\n",
    "\n",
    "### Collect.\n",
    "<blockquote>\n",
    "“This is ‘square one’ in the process. This step is all about collecting the right data and just enough data for the project’s questions or problems that we want to research.\n",
    "\n",
    "I first determine the data I can collect from any existing sources and databases that we already have that relate to the problem my company wants to solve. I always collect this data first! \n",
    "\n",
    "Then, I figure out if my project needs new sources of data because this could mean more time for the project and potentially more of an investment from my business group. \n",
    "\n",
    "My team and I use our company’s data collection tools and follow the data collection guidelines. We’re careful to securely store the data on our cloud servers, too.  \n",
    "\n",
    "One crucial point I’d like to make is you have to collect enough in your data set, so you don’t skew the results of your analysis.”\n",
    "</blockquote>\n",
    "\n",
    "### Clean.\n",
    "<blockquote>\n",
    "“Next, not all the data I collect will be useful, so it’s time to clean it up!  \n",
    "\n",
    "Data cleaning is the process of detecting and correcting missing or inaccurate records from a data set. \n",
    "\n",
    "A big part of this step is making sure that the data is in a usable format. This involves searching for what we call ‘outliers,’ dealing with null values, and looking for data that may have been incorrectly input. Simply put, raw data will have missing and inaccurate values that I need to address. \n",
    "\n",
    "You might have heard the term, ‘data wrangling’. I ‘wrangle’ the data so it’s in a usable format for my project in our database system. For example, I will search for duplicate records and remove them. \n",
    "\n",
    "No two data sets are the same, so how I clean the data can vary. I clean the data based on the context. In one case, seeing a blank entry might equal a zero entry, so it’s good and valuable data. But, in another case, seeing a blank entry could mean it’s incomplete data that I need to exclude. This is the art of data science!\n",
    "\n",
    "Always save your data since this is an iterative process!\n",
    "\n",
    "Oh, and here’s an interesting fact. This is where I spend most of my time, cleaning the data! I’d estimate that data analysts typically spend about 70-80% of their time cleaning data. It’s a lot of hard work. But, it’s a must so I can move on to analysis.”\n",
    "</blockqoute>"
   ]
  },
  {
   "cell_type": "markdown",
   "metadata": {},
   "source": [
    "### Analyze.\n",
    "<blockquote>\n",
    "“Once I have the relevant data and it’s cleansed, it’s time to analyze. This is the step where data analysts spend about 20-30% of their time. It’s the fun and rewarding part!\n",
    "\n",
    "I get to be curious and investigate. And, my problem-solving skills come into play. Here, I use different statistical and analytical methods and software tools. It’s important that I align my methods of analytics, so they match the intent of the problem.\n",
    "\n",
    "Basically, I identify issues and use analytics to determine the root causes of issues. I analyze trends, correlations, variations, and outliers to help me focus on answering the questions (and any questions or objections others might have).\n",
    "\n",
    "As I manipulate data, I might find I have the exact data I need, but, more likely, I might need to revise my original questions or collect more data. This can drive additional analysis and is one reason to always save your data.”\n",
    "</blockquote>"
   ]
  },
  {
   "cell_type": "markdown",
   "metadata": {},
   "source": [
    "### Visualize.\n",
    "\n",
    "<blockquote>\n",
    "“Once I have the relevant data and it’s cleansed, it’s time to analyze. This is the step where data analysts spend about 20-30% of their time. It’s the fun and rewarding part!\n",
    "\n",
    "I get to be curious and investigate. And, my problem-solving skills come into play. Here, I use different statistical and analytical methods and software tools. It’s important that I align my methods of analytics, so they match the intent of the problem.\n",
    "\n",
    "Basically, I identify issues and use analytics to determine the root causes of issues. I analyze trends, correlations, variations, and outliers to help me focus on answering the questions (and any questions or objections others might have).\n",
    "\n",
    "As I manipulate data, I might find I have the exact data I need, but, more likely, I might need to revise my original questions or collect more data. This can drive additional analysis and is one reason to always save your data.”\n",
    "</blockquote>"
   ]
  },
  {
   "cell_type": "markdown",
   "metadata": {},
   "source": [
    "## Extract Transform and Load (ETL).\n",
    "<blockquote>\n",
    "You may hear the term “ETL” used in computer-based work environments, in relation to data, data warehousing, and analytics. ETL is an acronym for extract, transform, and load (ETL).\n",
    "\n",
    "ETL is a data integration process that combines data from multiple data sources into a single, consistent data store that is loaded into a data warehouse or other target system.\n",
    "\n",
    "As databases grew in popularity in the 1970s, ETL was introduced as a process for integrating and loading data for computation and analysis, eventually becoming the primary method to process data for data warehousing projects.\n",
    "</blockquote>\n",
    "\n",
    "ETL provides the foundation for data analytics and machine learning workstreams. Organizations often use ETL to:\n",
    "\n",
    "- Extract data from legacy systems.\n",
    "- Cleanse the data to improve data quality and establish consistency.\n",
    "- Load data into a target database\n"
   ]
  },
  {
   "cell_type": "markdown",
   "metadata": {},
   "source": [
    "# Data Visualization.\n",
    "\n",
    "<img src = '../images/Data Visualization.png'>\n",
    "\n",
    "<blockquote>\n",
    "A data visualization is a graphical display of abstract or complex information.\n",
    "</blockquote>\n",
    "\n",
    "\n",
    "Data analysts use visualizations like charts, graphs, and maps for two reasons:\n",
    "\n",
    " - To explore and interpret data during analysis to identify patterns or trends.\n",
    "- To communicate results and help people understand the insights to make decisions."
   ]
  },
  {
   "cell_type": "markdown",
   "metadata": {},
   "source": [
    "**Data storytelling** is the process of converting data analyses into a simple, understandable story to influence a business decision. With the rise of digital business and data-driven decision making, data storytelling is an important skill. The idea is to “connect the dots” between the results and decision makers, who must be able to interpret the data."
   ]
  },
  {
   "cell_type": "markdown",
   "metadata": {},
   "source": [
    "Data storytelling involves a combination of *data*, *visualizations*, and *narrative*.\n",
    "\n",
    "- When narrative is coupled with data, it explains to the audience what is happening in the data and why an insight is important.\n",
    "- When visualizations are applied to data, they enlighten an audience with insights that they might not obtain without charts or graphs. Patterns and trends emerge from all the rows and columns in a database, with the help of data visualizations.\n",
    "- When narrative and visualizations come together, they can create a data story that can influence, drive change, and engage an audience."
   ]
  },
  {
   "cell_type": "markdown",
   "metadata": {},
   "source": [
    "Data analysts use specific charts to visualize quantitative and qualitative data. The following image contains common charts for visualizing these two types of data. `Conceptual charts can show either quantitative or qualitative data.` Take a moment to study them.\n",
    "\n",
    "<img src = '../images/Types_of_charts.png'>"
   ]
  },
  {
   "cell_type": "markdown",
   "metadata": {},
   "source": [
    "### Types of data comparison and recommended graphs. \n",
    "\n",
    "**Relative proportion** is the amount or quantity of a subset present in the population of all data points. For example, if there are 25 students in a class of which 15 are girls and 10 are boys, then the proportion of girls is 15 out of 25 (3 of 5) and the proportion of boys is 10 out of 25 (2 of 5).\n",
    "\n",
    "**Ranking** is the relationship between a set of items, in which one item is ranked higher, lower, or the same, compared to a second item. For example, video game players can be ranked in order by their highest score in a tournament.\n",
    "\n",
    "**Time** is a series of data points that are listed or sequenced in time order, such as, for example, the daily time of high tide and low tide at a beach.\n",
    "\n",
    "**Frequency** is the number of times a certain event occurs. For example, if it snows two times today, then the frequency of snow on this particular day is 2.\n",
    "\n",
    "A **correlation** is the relationship between two random variables, which are typically related in linear way. For example, there is a correlation between the height of parents and their children.\n",
    "\n",
    "<img src = '../images/Chart_recommendations.png'>"
   ]
  },
  {
   "cell_type": "markdown",
   "metadata": {},
   "source": [
    "The goal for data visualization is to have a visualization that's : effective, attractive, and impactive."
   ]
  }
 ],
 "metadata": {
  "language_info": {
   "name": "python"
  }
 },
 "nbformat": 4,
 "nbformat_minor": 2
}
